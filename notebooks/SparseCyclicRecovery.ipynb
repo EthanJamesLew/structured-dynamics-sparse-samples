{
 "cells": [
  {
   "cell_type": "code",
   "execution_count": 1,
   "id": "3cf851d1",
   "metadata": {},
   "outputs": [],
   "source": [
    "import numpy as np\n",
    "import scipy.integrate as scint\n",
    "import matplotlib.pyplot as plt\n",
    "\n",
    "import sys\n",
    "sys.path.append(\"../src\")\n",
    "from sparse_cyclic import legendre_dictionary"
   ]
  },
  {
   "cell_type": "code",
   "execution_count": 2,
   "id": "1f120a98",
   "metadata": {},
   "outputs": [],
   "source": [
    "def lorenz96(t, u, F):\n",
    "    \"\"\"lorenz 96 dynamical system evolution function\"\"\"\n",
    "    return (np.roll(u, -1) - np.roll(u, 2)) * np.roll(u, 1) - u + F"
   ]
  },
  {
   "cell_type": "markdown",
   "id": "124f2335",
   "metadata": {},
   "source": [
    "## Construct the data matrix U and Velocity Vector V\n",
    "\n"
   ]
  },
  {
   "cell_type": "code",
   "execution_count": 3,
   "id": "6a412d72",
   "metadata": {},
   "outputs": [],
   "source": [
    "# number of equations in the ODE system\n",
    "n = 128\n",
    "\n",
    "# constant in the ODE system\n",
    "F = 8\n",
    "\n",
    "# step size\n",
    "dt = 0.001\n",
    "\n",
    "# terminal time -- one time step\n",
    "T = dt\n",
    "\n",
    "# number of bursts\n",
    "K = 2\n",
    "\n",
    "# noise level\n",
    "var = 0.0001\n",
    "\n",
    "# size of the block\n",
    "nb = 55\n",
    "\n",
    "# index of the first point of the block\n",
    "ii = 1\n",
    "\n",
    "# optimization parameters (for step 7)\n",
    "tau = 1\n",
    "mu = 1.0/2.0\n",
    "max_it = 1E5\n",
    "tol = 1E-7"
   ]
  },
  {
   "cell_type": "code",
   "execution_count": 4,
   "id": "5e04cbbf",
   "metadata": {},
   "outputs": [],
   "source": [
    "# indices used in cyclic permutation and restriction of the data\n",
    "r = int((nb - 1.0) / 2.0)"
   ]
  },
  {
   "cell_type": "code",
   "execution_count": 5,
   "id": "860814b7",
   "metadata": {},
   "outputs": [],
   "source": [
    "indc = np.arange(0, n)\n",
    "indc = np.hstack([indc[0:r+1], indc[n-r:n]])\n",
    "indc = np.sort(indc)"
   ]
  },
  {
   "cell_type": "code",
   "execution_count": 6,
   "id": "671cb5a8",
   "metadata": {},
   "outputs": [],
   "source": [
    "indr = np.arange(0, n)\n",
    "indr = indr[ii-1:ii+nb-1]"
   ]
  },
  {
   "cell_type": "code",
   "execution_count": 7,
   "id": "245aebe9",
   "metadata": {},
   "outputs": [],
   "source": [
    "nc = len(indc)\n",
    "nr = len(indr)"
   ]
  },
  {
   "cell_type": "code",
   "execution_count": 8,
   "id": "337b2499",
   "metadata": {},
   "outputs": [],
   "source": [
    "# initialization\n",
    "U = np.zeros((nr*K, nc))\n",
    "Udot = np.zeros((nr*K, 1))\n",
    "V = np.zeros((nr*K, 1))"
   ]
  },
  {
   "cell_type": "code",
   "execution_count": 9,
   "id": "3f63f974",
   "metadata": {},
   "outputs": [],
   "source": [
    "for k in range(K):\n",
    "    # random initial data\n",
    "    u0 = 2*np.random.rand(n,1)-1\n",
    "    \n",
    "    # solve IVP to evolve the system\n",
    "    sol = scint.solve_ivp(\n",
    "        lambda t,x: lorenz96(t, x, F), \n",
    "        (0, T), \n",
    "        u0.flatten(), \n",
    "        t_eval=np.arange(0, T+T/10.0, T/2.0)\n",
    "    )\n",
    "    \n",
    "    # get the actual derivative\n",
    "    udot = lorenz96(0, u0, F)\n",
    "    \n",
    "    # collect just the first and last\n",
    "    u = sol.y[:, (0, -1)].T\n",
    "    \n",
    "    # add noise to data\n",
    "    u = u + var*np.random.randn(2, n)\n",
    "    \n",
    "    # compute the numerical derivative\n",
    "    udot1 = (u[1,:] - u[0,:] )/dt\n",
    "    \n",
    "    v = np.zeros((n, n))\n",
    "    v[0, :] = u[0, :]\n",
    "    for j in range(1, n):\n",
    "        v[j, :] = np.roll(v[j-1, :], [0, -1])\n",
    "    #plt.imshow(v[indr, :][:, indc])\n",
    "\n",
    "    U[(k)*nr : (k+1)*nr, :] = v[indr, :][:, indc]\n",
    "    Udot[(k)*nr : (k+1)*nr, :] = udot[indr]\n",
    "    V[(k)*nr : (k+1)*nr, :] = udot1[indr, np.newaxis]"
   ]
  },
  {
   "cell_type": "code",
   "execution_count": 10,
   "id": "70517bca",
   "metadata": {},
   "outputs": [
    {
     "data": {
      "text/plain": [
       "<matplotlib.image.AxesImage at 0x7fe63bc1e370>"
      ]
     },
     "execution_count": 10,
     "metadata": {},
     "output_type": "execute_result"
    },
    {
     "data": {
      "image/png": "[encoded data removed]",
      "text/plain": [
       "<Figure size 720x720 with 1 Axes>"
      ]
     },
     "metadata": {
      "needs_background": "light"
     },
     "output_type": "display_data"
    }
   ],
   "source": [
    "fig, ax = plt.subplots(figsize=(10, 10))\n",
    "plt.imshow(U)"
   ]
  },
  {
   "cell_type": "markdown",
   "id": "dbd1ea11",
   "metadata": {},
   "source": [
    "# Transform U"
   ]
  },
  {
   "cell_type": "code",
   "execution_count": 11,
   "id": "1076f345",
   "metadata": {},
   "outputs": [],
   "source": [
    "# nothing to do here for this example...\n",
    "a = 1\n",
    "b = 0\n",
    "U1 = np.copy(U)"
   ]
  },
  {
   "cell_type": "markdown",
   "id": "0e8cd785",
   "metadata": {},
   "source": [
    "# Construct the Dictionary matrix\n",
    "\n",
    "Given a single measurement $u_0(t_0; k) \\in \\mathbb R^n$ we can obtain multiple measurements by considering the collection of all cyclic permutations of the data,\n",
    "\n",
    "\\begin{equation}\n",
    "U\\left(t_0 ; k\\right)=\\left(\\begin{array}{cccc}\n",
    "u_1\\left(t_0 ; k\\right) & u_2\\left(t_0 ; k\\right) & \\cdots & u_n\\left(t_0 ; k\\right) \\\\\n",
    "u_2\\left(t_0 ; k\\right) & u_3\\left(t_0 ; k\\right) & \\cdots & u_1\\left(t_0 ; k\\right) \\\\\n",
    "u_3\\left(t_0 ; k\\right) & u_4\\left(t_0 ; k\\right) & \\cdots & u_2\\left(t_0 ; k\\right) \\\\\n",
    "\\vdots & \\vdots & \\ddots & \\vdots \\\\\n",
    "u_n\\left(t_0 ; k\\right) & u_1\\left(t_0 ; k\\right) & \\cdots & u_{n-1}\\left(t_0 ; k\\right)\n",
    "\\end{array}\\right)\n",
    "\\end{equation}\n",
    "\n",
    "To make the dictionary matric, we can collect all monomials of $U$, such as \n",
    "\n",
    "\\begin{equation}\n",
    "U^2\\left(t_0 ; k\\right)=\\left(\\begin{array}{cccc}\n",
    "u_1^2\\left(t_0 ; k\\right) & u_1\\left(t_0 ; k\\right) u_2\\left(t_0 ; k\\right) & \\cdots & u_n^2\\left(t_0 ; k\\right) \\\\\n",
    "u_2^2\\left(t_0 ; k\\right) & u_2\\left(t_0 ; k\\right) u_3\\left(t_0 ; k\\right) & \\cdots & u_1^2\\left(t_0 ; k\\right) \\\\\n",
    "u_3^2\\left(t_0 ; k\\right) & u_3\\left(t_0 ; k\\right) u_4\\left(t_0 ; k\\right) & \\cdots & u_2^2\\left(t_0 ; k\\right) \\\\\n",
    "\\vdots & \\vdots & \\ddots & \\vdots \\\\\n",
    "u_n^2\\left(t_0 ; k\\right) & u_n\\left(t_0 ; k\\right) u_1\\left(t_0 ; k\\right) & \\cdots & u_{n-1}^2\\left(t_0 ; k\\right)\n",
    "\\end{array}\\right)\n",
    "\\end{equation}\n",
    "\n",
    "and \n",
    "\n",
    "\\begin{equation}\n",
    "U^3\\left(t_0 ; k\\right)=\\left(\\begin{array}{cccccc}\n",
    "u_1^3\\left(t_0 ; k\\right) & u_1^2\\left(t_0 ; k\\right) u_2\\left(t_0 ; k\\right) & \\cdots & u_1\\left(t_0 ; k\\right) u_2\\left(t_0 ; k\\right) u_3\\left(t_0 ; k\\right) & \\cdots & u_n^3\\left(t_0 ; k\\right) \\\\\n",
    "u_2^3\\left(t_0 ; k\\right) & u_2^2\\left(t_0 ; k\\right) u_3\\left(t_0 ; k\\right) & \\cdots & u_2\\left(t_0 ; k\\right) u_3\\left(t_0 ; k\\right) u_4\\left(t_0 ; k\\right) & \\cdots & u_1^3\\left(t_0 ; k\\right) \\\\\n",
    "u_3^3\\left(t_0 ; k\\right) & u_3^2\\left(t_0 ; k\\right) u_4\\left(t_0 ; k\\right) & \\cdots & u_3\\left(t_0 ; k\\right) u_4\\left(t_0 ; k\\right) u_5\\left(t_0 ; k\\right) & \\cdots & u_2^3\\left(t_0 ; k\\right) \\\\\n",
    "\\vdots & \\vdots & \\ddots & \\vdots & \\ddots & \\vdots \\\\\n",
    "u_n^3\\left(t_0 ; k\\right) & u_n^2\\left(t_0 ; k\\right) u_1\\left(t_0 ; k\\right) & \\cdots & u_n\\left(t_0 ; k\\right) u_1\\left(t_0 ; k\\right) u_2\\left(t_0 ; k\\right) & \\cdots & u_{n-1}^3\\left(t_0 ; k\\right)\n",
    "\\end{array}\\right)\n",
    "\\end{equation}\n",
    "\n",
    "So, then we can construct a $n \\times N, \\quad N = {{n+p}\\choose{p}}$,\n",
    "\\begin{equation}\n",
    "A\\left(t_0 ; k\\right)=\\left[\\begin{array}{llllllll}\n",
    "1 & \\mid & U\\left(t_0 ; k\\right) & \\mid & U^2\\left(t_0 ; k\\right) & \\mid U^3\\left(t_0 ; k\\right) & \\mid & \\ldots\n",
    "\\end{array}\\right]\n",
    "\\end{equation}\n",
    "\n",
    "Due to the size of higher order polynomials, we stay with $p=3$.\n",
    "\n",
    "Given the velocity for the $k$th burst\n",
    "\\begin{equation}\n",
    "V=\\left(\\begin{array}{c}\n",
    "V\\left(t_0 ; 1\\right) \\\\\n",
    "V\\left(t_1 ; 1\\right) \\\\\n",
    "\\vdots \\\\\n",
    "V\\left(t_{m-1} ; 1\\right) \\\\\n",
    "V\\left(t_0 ; 2\\right) \\\\\n",
    "V\\left(t_1 ; 2\\right) \\\\\n",
    "\\vdots \\\\\n",
    "V\\left(t_{m-1} ; 2\\right) \\\\\n",
    "\\vdots \\\\\n",
    "V\\left(t_0 ; K\\right) \\\\\n",
    "V\\left(t_1 ; K\\right) \\\\\n",
    "\\vdots \\\\\n",
    "V\\left(t_{m-1} ; K\\right)\n",
    "\\end{array}\\right) \\quad \\text { and } \\quad A=\\left(\\begin{array}{c}\n",
    "A\\left(t_0 ; 1\\right) \\\\\n",
    "A\\left(t_1 ; 1\\right) \\\\\n",
    "\\vdots \\\\\n",
    "A\\left(t_{m-1} ; 1\\right) \\\\\n",
    "A\\left(t_0 ; 2\\right) \\\\\n",
    "A\\left(t_1 ; 2\\right) \\\\\n",
    "\\vdots \\\\\n",
    "A\\left(t_{m-1} ; 2\\right) \\\\\n",
    "\\vdots \\\\\n",
    "A\\left(t_0 ; K\\right) \\\\\n",
    "A\\left(t_1 ; K\\right) \\\\\n",
    "\\vdots \\\\\n",
    "A\\left(t_{m-1} ; K\\right)\n",
    "\\end{array}\\right),\n",
    "\\end{equation}\n",
    "the inverse problem is to find a $c=\\left(c_1, c_2, \\ldots, c_N\\right)^T$ such that $V=Ac$. The size of A is $mnK \\times N$.We assume that the burst is short enough and mainly provides a numerical estimate of the velocity."
   ]
  },
  {
   "cell_type": "code",
   "execution_count": 12,
   "id": "f7481ff4",
   "metadata": {},
   "outputs": [],
   "source": [
    "p = 3\n",
    "r = 10\n",
    "Amon, Aleg, Ind1, Ind20, Ind11, Ind300, Ind210, Ind120, Ind11 = legendre_dictionary(U1, p, r)"
   ]
  },
  {
   "cell_type": "code",
   "execution_count": null,
   "id": "7b40fd66",
   "metadata": {},
   "outputs": [],
   "source": []
  }
 ],
 "metadata": {
  "kernelspec": {
   "display_name": "Python 3 (ipykernel)",
   "language": "python",
   "name": "python3"
  },
  "language_info": {
   "codemirror_mode": {
    "name": "ipython",
    "version": 3
   },
   "file_extension": ".py",
   "mimetype": "text/x-python",
   "name": "python",
   "nbconvert_exporter": "python",
   "pygments_lexer": "ipython3",
   "version": "3.9.7"
  }
 },
 "nbformat": 4,
 "nbformat_minor": 5
}
